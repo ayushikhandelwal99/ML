{
  "nbformat": 4,
  "nbformat_minor": 0,
  "metadata": {
    "colab": {
      "name": "TASK2",
      "version": "0.3.2",
      "provenance": [],
      "include_colab_link": true
    },
    "kernelspec": {
      "name": "python3",
      "display_name": "Python 3"
    }
  },
  "cells": [
    {
      "cell_type": "markdown",
      "metadata": {
        "id": "view-in-github",
        "colab_type": "text"
      },
      "source": [
        "<a href=\"https://colab.research.google.com/github/ayushikhandelwal99/ML/blob/master/punumber%3A1.ipynb\" target=\"_parent\"><img src=\"https://colab.research.google.com/assets/colab-badge.svg\" alt=\"Open In Colab\"/></a>"
      ]
    },
    {
      "cell_type": "code",
      "metadata": {
        "id": "qcOwPXCZwBN9",
        "colab_type": "code",
        "colab": {}
      },
      "source": [
        "import numpy as np\n"
      ],
      "execution_count": 0,
      "outputs": []
    },
    {
      "cell_type": "code",
      "metadata": {
        "id": "Lvwo8L44w9-l",
        "colab_type": "code",
        "colab": {
          "base_uri": "https://localhost:8080/",
          "height": 84
        },
        "outputId": "70aaab27-edcc-4733-a538-2e4978dcb6bc"
      },
      "source": [
        "l=int(input(\"no.of rows for a: \"))\n",
        "m=int(input(\"no.of columns for a:  \"))\n",
        "n=int(input(\"no. of rows for b: \"))\n",
        "o=int(input(\"no.of columns for b: \"))"
      ],
      "execution_count": 10,
      "outputs": [
        {
          "output_type": "stream",
          "text": [
            "no.of rows for a: 3\n",
            "no.of columns for a:  2\n",
            "no. of rows for b: 2\n",
            "no.of columns for b: 5\n"
          ],
          "name": "stdout"
        }
      ]
    },
    {
      "cell_type": "code",
      "metadata": {
        "id": "6Ev3WhcOwEqd",
        "colab_type": "code",
        "colab": {
          "base_uri": "https://localhost:8080/",
          "height": 67
        },
        "outputId": "0ba907a1-503e-4e70-bc48-9725fc50ac57"
      },
      "source": [
        "a=np.random.random((l,m))\n",
        "a"
      ],
      "execution_count": 12,
      "outputs": [
        {
          "output_type": "execute_result",
          "data": {
            "text/plain": [
              "array([[0.53653566, 0.2276211 ],\n",
              "       [0.83311468, 0.69589399],\n",
              "       [0.23138995, 0.74831915]])"
            ]
          },
          "metadata": {
            "tags": []
          },
          "execution_count": 12
        }
      ]
    },
    {
      "cell_type": "code",
      "metadata": {
        "id": "02sHA7CwwTCA",
        "colab_type": "code",
        "outputId": "459e4019-ffb9-4b3a-ecc5-4ea375180e67",
        "colab": {
          "base_uri": "https://localhost:8080/",
          "height": 50
        }
      },
      "source": [
        "b=np.random.random((n,o))\n",
        "b"
      ],
      "execution_count": 13,
      "outputs": [
        {
          "output_type": "execute_result",
          "data": {
            "text/plain": [
              "array([[0.34831209, 0.95199564, 0.16241319, 0.17121548, 0.18717174],\n",
              "       [0.09449153, 0.52514309, 0.69055512, 0.05105234, 0.63286615]])"
            ]
          },
          "metadata": {
            "tags": []
          },
          "execution_count": 13
        }
      ]
    },
    {
      "cell_type": "code",
      "metadata": {
        "id": "tBNZlLkjwY-U",
        "colab_type": "code",
        "colab": {}
      },
      "source": [
        "np.savetxt('a.txt',a)\n",
        "x=np.loadtxt('a.txt')\n",
        "np.savetxt('b.txt',b)\n",
        "y=np.loadtxt('b.txt')"
      ],
      "execution_count": 0,
      "outputs": []
    },
    {
      "cell_type": "code",
      "metadata": {
        "id": "CYJerfILw8ba",
        "colab_type": "code",
        "outputId": "2e792596-8123-41ea-b8cd-ece5bda7a75c",
        "colab": {
          "base_uri": "https://localhost:8080/",
          "height": 50
        }
      },
      "source": [
        "y"
      ],
      "execution_count": 15,
      "outputs": [
        {
          "output_type": "execute_result",
          "data": {
            "text/plain": [
              "array([[0.34831209, 0.95199564, 0.16241319, 0.17121548, 0.18717174],\n",
              "       [0.09449153, 0.52514309, 0.69055512, 0.05105234, 0.63286615]])"
            ]
          },
          "metadata": {
            "tags": []
          },
          "execution_count": 15
        }
      ]
    },
    {
      "cell_type": "code",
      "metadata": {
        "id": "HRslq0HpxRjE",
        "colab_type": "code",
        "outputId": "b2661d8e-b831-4e93-c1d4-90e5b51d86e2",
        "colab": {
          "base_uri": "https://localhost:8080/",
          "height": 67
        }
      },
      "source": [
        "x"
      ],
      "execution_count": 16,
      "outputs": [
        {
          "output_type": "execute_result",
          "data": {
            "text/plain": [
              "array([[0.53653566, 0.2276211 ],\n",
              "       [0.83311468, 0.69589399],\n",
              "       [0.23138995, 0.74831915]])"
            ]
          },
          "metadata": {
            "tags": []
          },
          "execution_count": 16
        }
      ]
    },
    {
      "cell_type": "code",
      "metadata": {
        "id": "ieuLpxZ7xrcj",
        "colab_type": "code",
        "colab": {}
      },
      "source": [
        ""
      ],
      "execution_count": 0,
      "outputs": []
    }
  ]
}