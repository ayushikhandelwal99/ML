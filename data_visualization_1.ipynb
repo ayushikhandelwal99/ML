{
  "nbformat": 4,
  "nbformat_minor": 0,
  "metadata": {
    "colab": {
      "name": "data_visualization: 1",
      "version": "0.3.2",
      "provenance": [],
      "include_colab_link": true
    },
    "kernelspec": {
      "name": "python3",
      "display_name": "Python 3"
    }
  },
  "cells": [
    {
      "cell_type": "markdown",
      "metadata": {
        "id": "view-in-github",
        "colab_type": "text"
      },
      "source": [
        "<a href=\"https://colab.research.google.com/github/ayushikhandelwal99/ML/blob/master/data_visualization_1.ipynb\" target=\"_parent\"><img src=\"https://colab.research.google.com/assets/colab-badge.svg\" alt=\"Open In Colab\"/></a>"
      ]
    },
    {
      "cell_type": "code",
      "metadata": {
        "id": "_syAcTB6btY2",
        "colab_type": "code",
        "colab": {}
      },
      "source": [
        "import matplotlib.pyplot as plt\n",
        "import numpy as np\n",
        "import csv\n",
        "import pandas as pd"
      ],
      "execution_count": 0,
      "outputs": []
    },
    {
      "cell_type": "code",
      "metadata": {
        "id": "9HZJO3VxjDF8",
        "colab_type": "code",
        "colab": {}
      },
      "source": [
        "a=np.array([['Student_name','Mark','Age','Contact','study_hours'],['Ayushi',40,19,978593935,7],['Charvik',47,20,9837448256,9],['Gaurav',38,19,8867345947,7],['Manya',45,19,9978356647,10]])"
      ],
      "execution_count": 0,
      "outputs": []
    },
    {
      "cell_type": "code",
      "metadata": {
        "id": "_HkUSEeKdXEj",
        "colab_type": "code",
        "colab": {}
      },
      "source": [
        "with open('student.csv','w') as csvFile:\n",
        " writer = csv.writer(csvFile)\n",
        " writer.writerows(a)\n",
        "\n",
        "csvFile.close()  "
      ],
      "execution_count": 0,
      "outputs": []
    },
    {
      "cell_type": "code",
      "metadata": {
        "id": "2n_UvRhcfo8G",
        "colab_type": "code",
        "colab": {
          "base_uri": "https://localhost:8080/",
          "height": 166
        },
        "outputId": "e6ebc3f6-7c07-4dec-e95f-04776f2cece1"
      },
      "source": [
        "df=pd.read_csv('student.csv')\n",
        "Student_name=['Ayushi','Charvik','Gaurav','Manya']\n",
        "Mark=[40,47,38,45]\n",
        "df"
      ],
      "execution_count": 35,
      "outputs": [
        {
          "output_type": "execute_result",
          "data": {
            "text/html": [
              "<div>\n",
              "<style scoped>\n",
              "    .dataframe tbody tr th:only-of-type {\n",
              "        vertical-align: middle;\n",
              "    }\n",
              "\n",
              "    .dataframe tbody tr th {\n",
              "        vertical-align: top;\n",
              "    }\n",
              "\n",
              "    .dataframe thead th {\n",
              "        text-align: right;\n",
              "    }\n",
              "</style>\n",
              "<table border=\"1\" class=\"dataframe\">\n",
              "  <thead>\n",
              "    <tr style=\"text-align: right;\">\n",
              "      <th></th>\n",
              "      <th>Student_name</th>\n",
              "      <th>Mark</th>\n",
              "      <th>Age</th>\n",
              "      <th>Contact</th>\n",
              "      <th>study_hours</th>\n",
              "    </tr>\n",
              "  </thead>\n",
              "  <tbody>\n",
              "    <tr>\n",
              "      <th>0</th>\n",
              "      <td>Ayushi</td>\n",
              "      <td>40</td>\n",
              "      <td>19</td>\n",
              "      <td>978593935</td>\n",
              "      <td>7</td>\n",
              "    </tr>\n",
              "    <tr>\n",
              "      <th>1</th>\n",
              "      <td>Charvik</td>\n",
              "      <td>47</td>\n",
              "      <td>20</td>\n",
              "      <td>9837448256</td>\n",
              "      <td>9</td>\n",
              "    </tr>\n",
              "    <tr>\n",
              "      <th>2</th>\n",
              "      <td>Gaurav</td>\n",
              "      <td>38</td>\n",
              "      <td>19</td>\n",
              "      <td>8867345947</td>\n",
              "      <td>7</td>\n",
              "    </tr>\n",
              "    <tr>\n",
              "      <th>3</th>\n",
              "      <td>Manya</td>\n",
              "      <td>45</td>\n",
              "      <td>19</td>\n",
              "      <td>9978356647</td>\n",
              "      <td>10</td>\n",
              "    </tr>\n",
              "  </tbody>\n",
              "</table>\n",
              "</div>"
            ],
            "text/plain": [
              "  Student_name  Mark  Age     Contact  study_hours\n",
              "0       Ayushi    40   19   978593935            7\n",
              "1      Charvik    47   20  9837448256            9\n",
              "2       Gaurav    38   19  8867345947            7\n",
              "3        Manya    45   19  9978356647           10"
            ]
          },
          "metadata": {
            "tags": []
          },
          "execution_count": 35
        }
      ]
    },
    {
      "cell_type": "code",
      "metadata": {
        "id": "SimYOS9TmJfY",
        "colab_type": "code",
        "colab": {
          "base_uri": "https://localhost:8080/",
          "height": 457
        },
        "outputId": "381f9e69-8ac1-4a5b-8681-c66b155e2150"
      },
      "source": [
        "plt.pie(Mark,labels=Student_name,autopct='%1.1f%%')"
      ],
      "execution_count": 39,
      "outputs": [
        {
          "output_type": "execute_result",
          "data": {
            "text/plain": [
              "([<matplotlib.patches.Wedge at 0x7f0b3047d240>,\n",
              "  <matplotlib.patches.Wedge at 0x7f0b3047d940>,\n",
              "  <matplotlib.patches.Wedge at 0x7f0b30485080>,\n",
              "  <matplotlib.patches.Wedge at 0x7f0b30485780>],\n",
              " [Text(0.8129098069020331, 0.7410652102497456, 'Ayushi'),\n",
              "  Text(-0.7705973785320911, 0.7849711333542586, 'Charvik'),\n",
              "  Text(-0.784971097279991, -0.770597415279241, 'Gaurav'),\n",
              "  Text(0.7410653244149015, -0.8129097028267266, 'Manya')],\n",
              " [Text(0.4434053492192907, 0.4042173874089521, '23.5%'),\n",
              "  Text(-0.420325842835686, 0.42816607273868645, '27.6%'),\n",
              "  Text(-0.42816605306181327, -0.42032586287958595, '22.4%'),\n",
              "  Text(0.4042174496808553, -0.44340529245094173, '26.5%')])"
            ]
          },
          "metadata": {
            "tags": []
          },
          "execution_count": 39
        },
        {
          "output_type": "display_data",
          "data": {
            "image/png": "[encoded data removed]",
            "text/plain": [
              "<Figure size 432x288 with 1 Axes>"
            ]
          },
          "metadata": {
            "tags": []
          }
        }
      ]
    },
    {
      "cell_type": "code",
      "metadata": {
        "id": "OuK9cGSTnHzF",
        "colab_type": "code",
        "colab": {}
      },
      "source": [
        ""
      ],
      "execution_count": 0,
      "outputs": []
    }
  ]
}